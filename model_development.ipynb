{
 "cells": [
  {
   "cell_type": "markdown",
   "metadata": {},
   "source": [
    "### Model creation"
   ]
  },
  {
   "cell_type": "code",
   "execution_count": 1,
   "metadata": {},
   "outputs": [
    {
     "name": "stdout",
     "output_type": "stream",
     "text": [
      "2.13.0\n"
     ]
    }
   ],
   "source": [
    "import tensorflow as tf\n",
    "print(tf.__version__)"
   ]
  },
  {
   "cell_type": "code",
   "execution_count": 3,
   "metadata": {},
   "outputs": [],
   "source": [
    "from tensorflow.keras.models import Sequential\n",
    "from tensorflow.keras.layers import Dense,Dropout,Activation,Flatten\n",
    "from tensorflow.keras.optimizers import Adam\n",
    "from sklearn import metrics\n",
    "import numpy as np\n",
    "import pandas as pd"
   ]
  },
  {
   "cell_type": "code",
   "execution_count": 24,
   "metadata": {},
   "outputs": [],
   "source": [
    "extracted_features = pd.read_json('artifacts/preprocessed_data.json')"
   ]
  },
  {
   "cell_type": "code",
   "execution_count": 28,
   "metadata": {},
   "outputs": [
    {
     "data": {
      "text/html": [
       "<div>\n",
       "<style scoped>\n",
       "    .dataframe tbody tr th:only-of-type {\n",
       "        vertical-align: middle;\n",
       "    }\n",
       "\n",
       "    .dataframe tbody tr th {\n",
       "        vertical-align: top;\n",
       "    }\n",
       "\n",
       "    .dataframe thead th {\n",
       "        text-align: right;\n",
       "    }\n",
       "</style>\n",
       "<table border=\"1\" class=\"dataframe\">\n",
       "  <thead>\n",
       "    <tr style=\"text-align: right;\">\n",
       "      <th></th>\n",
       "      <th>feature</th>\n",
       "      <th>class</th>\n",
       "    </tr>\n",
       "  </thead>\n",
       "  <tbody>\n",
       "    <tr>\n",
       "      <th>0</th>\n",
       "      <td>[-217.355255127, 70.2233810425, -130.385269165...</td>\n",
       "      <td>dog_bark</td>\n",
       "    </tr>\n",
       "    <tr>\n",
       "      <th>1</th>\n",
       "      <td>[-424.0981750488, 109.3407669067, -52.91952514...</td>\n",
       "      <td>children_playing</td>\n",
       "    </tr>\n",
       "    <tr>\n",
       "      <th>2</th>\n",
       "      <td>[-458.7911376953, 121.3841934204, -46.52066040...</td>\n",
       "      <td>children_playing</td>\n",
       "    </tr>\n",
       "    <tr>\n",
       "      <th>3</th>\n",
       "      <td>[-413.8998413086, 101.6637268066, -35.42945098...</td>\n",
       "      <td>children_playing</td>\n",
       "    </tr>\n",
       "    <tr>\n",
       "      <th>4</th>\n",
       "      <td>[-446.603515625, 113.6854095459, -52.402214050...</td>\n",
       "      <td>children_playing</td>\n",
       "    </tr>\n",
       "    <tr>\n",
       "      <th>...</th>\n",
       "      <td>...</td>\n",
       "      <td>...</td>\n",
       "    </tr>\n",
       "    <tr>\n",
       "      <th>8727</th>\n",
       "      <td>[-398.5845031738, 135.5349578857, -50.72501754...</td>\n",
       "      <td>car_horn</td>\n",
       "    </tr>\n",
       "    <tr>\n",
       "      <th>8728</th>\n",
       "      <td>[-346.4742126465, 86.3481521606, -45.168571472...</td>\n",
       "      <td>car_horn</td>\n",
       "    </tr>\n",
       "    <tr>\n",
       "      <th>8729</th>\n",
       "      <td>[-303.8882446289, 111.3594512939, -45.94156646...</td>\n",
       "      <td>car_horn</td>\n",
       "    </tr>\n",
       "    <tr>\n",
       "      <th>8730</th>\n",
       "      <td>[-344.1100769043, 125.4502105713, -54.90344238...</td>\n",
       "      <td>car_horn</td>\n",
       "    </tr>\n",
       "    <tr>\n",
       "      <th>8731</th>\n",
       "      <td>[-315.6028137207, 94.8548049927, -37.222339630...</td>\n",
       "      <td>car_horn</td>\n",
       "    </tr>\n",
       "  </tbody>\n",
       "</table>\n",
       "<p>8732 rows × 2 columns</p>\n",
       "</div>"
      ],
      "text/plain": [
       "                                                feature             class\n",
       "0     [-217.355255127, 70.2233810425, -130.385269165...          dog_bark\n",
       "1     [-424.0981750488, 109.3407669067, -52.91952514...  children_playing\n",
       "2     [-458.7911376953, 121.3841934204, -46.52066040...  children_playing\n",
       "3     [-413.8998413086, 101.6637268066, -35.42945098...  children_playing\n",
       "4     [-446.603515625, 113.6854095459, -52.402214050...  children_playing\n",
       "...                                                 ...               ...\n",
       "8727  [-398.5845031738, 135.5349578857, -50.72501754...          car_horn\n",
       "8728  [-346.4742126465, 86.3481521606, -45.168571472...          car_horn\n",
       "8729  [-303.8882446289, 111.3594512939, -45.94156646...          car_horn\n",
       "8730  [-344.1100769043, 125.4502105713, -54.90344238...          car_horn\n",
       "8731  [-315.6028137207, 94.8548049927, -37.222339630...          car_horn\n",
       "\n",
       "[8732 rows x 2 columns]"
      ]
     },
     "execution_count": 28,
     "metadata": {},
     "output_type": "execute_result"
    }
   ],
   "source": [
    "extracted_features"
   ]
  },
  {
   "cell_type": "code",
   "execution_count": 29,
   "metadata": {},
   "outputs": [],
   "source": [
    "### Split the dataset into independent and dependent dataset\n",
    "X=np.array(extracted_features['feature'].tolist())\n",
    "y=np.array(extracted_features['class'].tolist())"
   ]
  },
  {
   "cell_type": "code",
   "execution_count": 30,
   "metadata": {},
   "outputs": [
    {
     "data": {
      "text/plain": [
       "(8732, 40)"
      ]
     },
     "execution_count": 30,
     "metadata": {},
     "output_type": "execute_result"
    }
   ],
   "source": [
    "X.shape"
   ]
  },
  {
   "cell_type": "code",
   "execution_count": 34,
   "metadata": {},
   "outputs": [],
   "source": [
    "### Label Encoding\n",
    "y=np.array(pd.get_dummies(y))"
   ]
  },
  {
   "cell_type": "code",
   "execution_count": 35,
   "metadata": {},
   "outputs": [
    {
     "data": {
      "text/plain": [
       "(8732, 10)"
      ]
     },
     "execution_count": 35,
     "metadata": {},
     "output_type": "execute_result"
    }
   ],
   "source": [
    "y.shape\n"
   ]
  },
  {
   "cell_type": "code",
   "execution_count": 36,
   "metadata": {},
   "outputs": [],
   "source": [
    "### Train Test Split\n",
    "from sklearn.model_selection import train_test_split\n",
    "X_train,X_test,y_train,y_test=train_test_split(X,y,test_size=0.2,random_state=0)"
   ]
  },
  {
   "cell_type": "code",
   "execution_count": 37,
   "metadata": {},
   "outputs": [
    {
     "data": {
      "text/plain": [
       "(6985, 40)"
      ]
     },
     "execution_count": 37,
     "metadata": {},
     "output_type": "execute_result"
    }
   ],
   "source": [
    "X_train.shape"
   ]
  },
  {
   "cell_type": "code",
   "execution_count": 38,
   "metadata": {},
   "outputs": [
    {
     "data": {
      "text/plain": [
       "(1747, 40)"
      ]
     },
     "execution_count": 38,
     "metadata": {},
     "output_type": "execute_result"
    }
   ],
   "source": [
    "X_test.shape"
   ]
  },
  {
   "cell_type": "code",
   "execution_count": 39,
   "metadata": {},
   "outputs": [
    {
     "data": {
      "text/plain": [
       "(6985, 10)"
      ]
     },
     "execution_count": 39,
     "metadata": {},
     "output_type": "execute_result"
    }
   ],
   "source": [
    "y_train.shape"
   ]
  },
  {
   "cell_type": "code",
   "execution_count": 40,
   "metadata": {},
   "outputs": [
    {
     "data": {
      "text/plain": [
       "(1747, 10)"
      ]
     },
     "execution_count": 40,
     "metadata": {},
     "output_type": "execute_result"
    }
   ],
   "source": [
    "y_test.shape"
   ]
  },
  {
   "cell_type": "code",
   "execution_count": 41,
   "metadata": {},
   "outputs": [],
   "source": [
    "### No of classes\n",
    "num_labels=y.shape[1]"
   ]
  },
  {
   "cell_type": "code",
   "execution_count": 43,
   "metadata": {},
   "outputs": [],
   "source": [
    "# Dense()"
   ]
  },
  {
   "cell_type": "code",
   "execution_count": 44,
   "metadata": {},
   "outputs": [],
   "source": [
    "model=Sequential()\n",
    "###first layer\n",
    "model.add(Dense(100,input_shape=(40,)))\n",
    "model.add(Activation('relu'))\n",
    "model.add(Dropout(0.5))\n",
    "###second layer\n",
    "model.add(Dense(200))\n",
    "model.add(Activation('relu'))\n",
    "model.add(Dropout(0.5))\n",
    "###third layer\n",
    "model.add(Dense(100))\n",
    "model.add(Activation('relu'))\n",
    "model.add(Dropout(0.5))\n",
    "\n",
    "###final layer\n",
    "model.add(Dense(num_labels))\n",
    "model.add(Activation('softmax'))"
   ]
  },
  {
   "cell_type": "code",
   "execution_count": 45,
   "metadata": {},
   "outputs": [
    {
     "name": "stdout",
     "output_type": "stream",
     "text": [
      "Model: \"sequential\"\n",
      "_________________________________________________________________\n",
      " Layer (type)                Output Shape              Param #   \n",
      "=================================================================\n",
      " dense (Dense)               (None, 100)               4100      \n",
      "                                                                 \n",
      " activation (Activation)     (None, 100)               0         \n",
      "                                                                 \n",
      " dropout (Dropout)           (None, 100)               0         \n",
      "                                                                 \n",
      " dense_1 (Dense)             (None, 200)               20200     \n",
      "                                                                 \n",
      " activation_1 (Activation)   (None, 200)               0         \n",
      "                                                                 \n",
      " dropout_1 (Dropout)         (None, 200)               0         \n",
      "                                                                 \n",
      " dense_2 (Dense)             (None, 100)               20100     \n",
      "                                                                 \n",
      " activation_2 (Activation)   (None, 100)               0         \n",
      "                                                                 \n",
      " dropout_2 (Dropout)         (None, 100)               0         \n",
      "                                                                 \n",
      " dense_3 (Dense)             (None, 10)                1010      \n",
      "                                                                 \n",
      " activation_3 (Activation)   (None, 10)                0         \n",
      "                                                                 \n",
      "=================================================================\n",
      "Total params: 45410 (177.38 KB)\n",
      "Trainable params: 45410 (177.38 KB)\n",
      "Non-trainable params: 0 (0.00 Byte)\n",
      "_________________________________________________________________\n"
     ]
    }
   ],
   "source": [
    "model.summary()"
   ]
  },
  {
   "cell_type": "code",
   "execution_count": 46,
   "metadata": {},
   "outputs": [],
   "source": [
    "model.compile(loss='categorical_crossentropy',metrics=['accuracy'],optimizer='adam')"
   ]
  },
  {
   "cell_type": "code",
   "execution_count": 47,
   "metadata": {},
   "outputs": [
    {
     "name": "stdout",
     "output_type": "stream",
     "text": [
      "Epoch 1/100\n",
      "211/219 [===========================>..] - ETA: 0s - loss: 10.6886 - accuracy: 0.1317\n",
      "Epoch 1: val_loss improved from inf to 2.28517, saving model to artifacts\\audio_classification.hdf5\n",
      "219/219 [==============================] - 3s 7ms/step - loss: 10.4287 - accuracy: 0.1316 - val_loss: 2.2852 - val_accuracy: 0.1311\n",
      "Epoch 2/100\n",
      " 13/219 [>.............................] - ETA: 0s - loss: 2.8956 - accuracy: 0.1562"
     ]
    },
    {
     "name": "stderr",
     "output_type": "stream",
     "text": [
      "c:\\Users\\yashr\\anaconda3\\envs\\audioclf\\lib\\site-packages\\keras\\src\\engine\\training.py:3000: UserWarning: You are saving your model as an HDF5 file via `model.save()`. This file format is considered legacy. We recommend using instead the native Keras format, e.g. `model.save('my_model.keras')`.\n",
      "  saving_api.save_model(\n"
     ]
    },
    {
     "name": "stdout",
     "output_type": "stream",
     "text": [
      "212/219 [============================>.] - ETA: 0s - loss: 2.5520 - accuracy: 0.1269\n",
      "Epoch 2: val_loss improved from 2.28517 to 2.28114, saving model to artifacts\\audio_classification.hdf5\n",
      "219/219 [==============================] - 1s 5ms/step - loss: 2.5476 - accuracy: 0.1267 - val_loss: 2.2811 - val_accuracy: 0.1156\n",
      "Epoch 3/100\n",
      "207/219 [===========================>..] - ETA: 0s - loss: 2.3551 - accuracy: 0.1184\n",
      "Epoch 3: val_loss improved from 2.28114 to 2.27437, saving model to artifacts\\audio_classification.hdf5\n",
      "219/219 [==============================] - 1s 5ms/step - loss: 2.3531 - accuracy: 0.1188 - val_loss: 2.2744 - val_accuracy: 0.1231\n",
      "Epoch 4/100\n",
      "216/219 [============================>.] - ETA: 0s - loss: 2.2613 - accuracy: 0.1444\n",
      "Epoch 4: val_loss improved from 2.27437 to 2.24041, saving model to artifacts\\audio_classification.hdf5\n",
      "219/219 [==============================] - 1s 5ms/step - loss: 2.2615 - accuracy: 0.1442 - val_loss: 2.2404 - val_accuracy: 0.1649\n",
      "Epoch 5/100\n",
      "216/219 [============================>.] - ETA: 0s - loss: 2.2367 - accuracy: 0.1661\n",
      "Epoch 5: val_loss improved from 2.24041 to 2.16329, saving model to artifacts\\audio_classification.hdf5\n",
      "219/219 [==============================] - 1s 5ms/step - loss: 2.2361 - accuracy: 0.1665 - val_loss: 2.1633 - val_accuracy: 0.2204\n",
      "Epoch 6/100\n",
      "207/219 [===========================>..] - ETA: 0s - loss: 2.1476 - accuracy: 0.1990\n",
      "Epoch 6: val_loss improved from 2.16329 to 2.02719, saving model to artifacts\\audio_classification.hdf5\n",
      "219/219 [==============================] - 1s 5ms/step - loss: 2.1495 - accuracy: 0.1993 - val_loss: 2.0272 - val_accuracy: 0.2559\n",
      "Epoch 7/100\n",
      "208/219 [===========================>..] - ETA: 0s - loss: 2.1157 - accuracy: 0.2144\n",
      "Epoch 7: val_loss improved from 2.02719 to 1.99148, saving model to artifacts\\audio_classification.hdf5\n",
      "219/219 [==============================] - 1s 5ms/step - loss: 2.1156 - accuracy: 0.2136 - val_loss: 1.9915 - val_accuracy: 0.2645\n",
      "Epoch 8/100\n",
      "208/219 [===========================>..] - ETA: 0s - loss: 2.0868 - accuracy: 0.2249\n",
      "Epoch 8: val_loss improved from 1.99148 to 1.95051, saving model to artifacts\\audio_classification.hdf5\n",
      "219/219 [==============================] - 1s 5ms/step - loss: 2.0844 - accuracy: 0.2252 - val_loss: 1.9505 - val_accuracy: 0.2833\n",
      "Epoch 9/100\n",
      "209/219 [===========================>..] - ETA: 0s - loss: 2.0383 - accuracy: 0.2457\n",
      "Epoch 9: val_loss improved from 1.95051 to 1.89755, saving model to artifacts\\audio_classification.hdf5\n",
      "219/219 [==============================] - 1s 5ms/step - loss: 2.0375 - accuracy: 0.2444 - val_loss: 1.8975 - val_accuracy: 0.2885\n",
      "Epoch 10/100\n",
      "216/219 [============================>.] - ETA: 0s - loss: 1.9950 - accuracy: 0.2564\n",
      "Epoch 10: val_loss improved from 1.89755 to 1.86235, saving model to artifacts\\audio_classification.hdf5\n",
      "219/219 [==============================] - 1s 5ms/step - loss: 1.9937 - accuracy: 0.2568 - val_loss: 1.8623 - val_accuracy: 0.2805\n",
      "Epoch 11/100\n",
      "217/219 [============================>.] - ETA: 0s - loss: 1.9607 - accuracy: 0.2560\n",
      "Epoch 11: val_loss improved from 1.86235 to 1.80554, saving model to artifacts\\audio_classification.hdf5\n",
      "219/219 [==============================] - 1s 5ms/step - loss: 1.9610 - accuracy: 0.2561 - val_loss: 1.8055 - val_accuracy: 0.3091\n",
      "Epoch 12/100\n",
      "212/219 [============================>.] - ETA: 0s - loss: 1.9099 - accuracy: 0.2842\n",
      "Epoch 12: val_loss improved from 1.80554 to 1.78392, saving model to artifacts\\audio_classification.hdf5\n",
      "219/219 [==============================] - 1s 5ms/step - loss: 1.9107 - accuracy: 0.2852 - val_loss: 1.7839 - val_accuracy: 0.3354\n",
      "Epoch 13/100\n",
      "215/219 [============================>.] - ETA: 0s - loss: 1.8850 - accuracy: 0.2946\n",
      "Epoch 13: val_loss improved from 1.78392 to 1.70652, saving model to artifacts\\audio_classification.hdf5\n",
      "219/219 [==============================] - 1s 5ms/step - loss: 1.8845 - accuracy: 0.2953 - val_loss: 1.7065 - val_accuracy: 0.3789\n",
      "Epoch 14/100\n",
      "217/219 [============================>.] - ETA: 0s - loss: 1.8407 - accuracy: 0.3151\n",
      "Epoch 14: val_loss improved from 1.70652 to 1.65736, saving model to artifacts\\audio_classification.hdf5\n",
      "219/219 [==============================] - 1s 5ms/step - loss: 1.8411 - accuracy: 0.3145 - val_loss: 1.6574 - val_accuracy: 0.3932\n",
      "Epoch 15/100\n",
      "219/219 [==============================] - ETA: 0s - loss: 1.8055 - accuracy: 0.3273\n",
      "Epoch 15: val_loss improved from 1.65736 to 1.61938, saving model to artifacts\\audio_classification.hdf5\n",
      "219/219 [==============================] - 1s 5ms/step - loss: 1.8055 - accuracy: 0.3273 - val_loss: 1.6194 - val_accuracy: 0.4568\n",
      "Epoch 16/100\n",
      "217/219 [============================>.] - ETA: 0s - loss: 1.7674 - accuracy: 0.3535\n",
      "Epoch 16: val_loss improved from 1.61938 to 1.61160, saving model to artifacts\\audio_classification.hdf5\n",
      "219/219 [==============================] - 1s 5ms/step - loss: 1.7680 - accuracy: 0.3539 - val_loss: 1.6116 - val_accuracy: 0.4499\n",
      "Epoch 17/100\n",
      "207/219 [===========================>..] - ETA: 0s - loss: 1.7449 - accuracy: 0.3595\n",
      "Epoch 17: val_loss improved from 1.61160 to 1.51973, saving model to artifacts\\audio_classification.hdf5\n",
      "219/219 [==============================] - 1s 5ms/step - loss: 1.7406 - accuracy: 0.3596 - val_loss: 1.5197 - val_accuracy: 0.5020\n",
      "Epoch 18/100\n",
      "212/219 [============================>.] - ETA: 0s - loss: 1.6918 - accuracy: 0.3917\n",
      "Epoch 18: val_loss improved from 1.51973 to 1.47935, saving model to artifacts\\audio_classification.hdf5\n",
      "219/219 [==============================] - 1s 6ms/step - loss: 1.6894 - accuracy: 0.3936 - val_loss: 1.4793 - val_accuracy: 0.5037\n",
      "Epoch 19/100\n",
      "213/219 [============================>.] - ETA: 0s - loss: 1.6437 - accuracy: 0.4051\n",
      "Epoch 19: val_loss improved from 1.47935 to 1.45140, saving model to artifacts\\audio_classification.hdf5\n",
      "219/219 [==============================] - 1s 5ms/step - loss: 1.6433 - accuracy: 0.4063 - val_loss: 1.4514 - val_accuracy: 0.5352\n",
      "Epoch 20/100\n",
      "208/219 [===========================>..] - ETA: 0s - loss: 1.6156 - accuracy: 0.4172\n",
      "Epoch 20: val_loss improved from 1.45140 to 1.41035, saving model to artifacts\\audio_classification.hdf5\n",
      "219/219 [==============================] - 1s 5ms/step - loss: 1.6168 - accuracy: 0.4168 - val_loss: 1.4103 - val_accuracy: 0.5529\n",
      "Epoch 21/100\n",
      "217/219 [============================>.] - ETA: 0s - loss: 1.5722 - accuracy: 0.4420\n",
      "Epoch 21: val_loss improved from 1.41035 to 1.38581, saving model to artifacts\\audio_classification.hdf5\n",
      "219/219 [==============================] - 1s 5ms/step - loss: 1.5747 - accuracy: 0.4417 - val_loss: 1.3858 - val_accuracy: 0.5541\n",
      "Epoch 22/100\n",
      "218/219 [============================>.] - ETA: 0s - loss: 1.5209 - accuracy: 0.4627\n",
      "Epoch 22: val_loss improved from 1.38581 to 1.33463, saving model to artifacts\\audio_classification.hdf5\n",
      "219/219 [==============================] - 1s 5ms/step - loss: 1.5211 - accuracy: 0.4628 - val_loss: 1.3346 - val_accuracy: 0.5764\n",
      "Epoch 23/100\n",
      "209/219 [===========================>..] - ETA: 0s - loss: 1.5019 - accuracy: 0.4690\n",
      "Epoch 23: val_loss improved from 1.33463 to 1.29442, saving model to artifacts\\audio_classification.hdf5\n",
      "219/219 [==============================] - 1s 5ms/step - loss: 1.5019 - accuracy: 0.4696 - val_loss: 1.2944 - val_accuracy: 0.5873\n",
      "Epoch 24/100\n",
      "214/219 [============================>.] - ETA: 0s - loss: 1.4844 - accuracy: 0.4736\n",
      "Epoch 24: val_loss improved from 1.29442 to 1.28524, saving model to artifacts\\audio_classification.hdf5\n",
      "219/219 [==============================] - 1s 5ms/step - loss: 1.4863 - accuracy: 0.4723 - val_loss: 1.2852 - val_accuracy: 0.5953\n",
      "Epoch 25/100\n",
      "211/219 [===========================>..] - ETA: 0s - loss: 1.4447 - accuracy: 0.4954\n",
      "Epoch 25: val_loss improved from 1.28524 to 1.23233, saving model to artifacts\\audio_classification.hdf5\n",
      "219/219 [==============================] - 1s 5ms/step - loss: 1.4459 - accuracy: 0.4955 - val_loss: 1.2323 - val_accuracy: 0.6153\n",
      "Epoch 26/100\n",
      "212/219 [============================>.] - ETA: 0s - loss: 1.4095 - accuracy: 0.5049\n",
      "Epoch 26: val_loss improved from 1.23233 to 1.17667, saving model to artifacts\\audio_classification.hdf5\n",
      "219/219 [==============================] - 1s 5ms/step - loss: 1.4079 - accuracy: 0.5054 - val_loss: 1.1767 - val_accuracy: 0.6222\n",
      "Epoch 27/100\n",
      "213/219 [============================>.] - ETA: 0s - loss: 1.3902 - accuracy: 0.5176\n",
      "Epoch 27: val_loss did not improve from 1.17667\n",
      "219/219 [==============================] - 1s 5ms/step - loss: 1.3886 - accuracy: 0.5184 - val_loss: 1.1855 - val_accuracy: 0.6216\n",
      "Epoch 28/100\n",
      "207/219 [===========================>..] - ETA: 0s - loss: 1.3738 - accuracy: 0.5282\n",
      "Epoch 28: val_loss did not improve from 1.17667\n",
      "219/219 [==============================] - 1s 5ms/step - loss: 1.3695 - accuracy: 0.5300 - val_loss: 1.1843 - val_accuracy: 0.6119\n",
      "Epoch 29/100\n",
      "217/219 [============================>.] - ETA: 0s - loss: 1.3606 - accuracy: 0.5279\n",
      "Epoch 29: val_loss improved from 1.17667 to 1.13777, saving model to artifacts\\audio_classification.hdf5\n",
      "219/219 [==============================] - 1s 5ms/step - loss: 1.3594 - accuracy: 0.5284 - val_loss: 1.1378 - val_accuracy: 0.6371\n",
      "Epoch 30/100\n",
      "215/219 [============================>.] - ETA: 0s - loss: 1.3390 - accuracy: 0.5368\n",
      "Epoch 30: val_loss improved from 1.13777 to 1.12841, saving model to artifacts\\audio_classification.hdf5\n",
      "219/219 [==============================] - 1s 5ms/step - loss: 1.3401 - accuracy: 0.5367 - val_loss: 1.1284 - val_accuracy: 0.6142\n",
      "Epoch 31/100\n",
      "216/219 [============================>.] - ETA: 0s - loss: 1.2974 - accuracy: 0.5566\n",
      "Epoch 31: val_loss improved from 1.12841 to 1.11482, saving model to artifacts\\audio_classification.hdf5\n",
      "219/219 [==============================] - 1s 5ms/step - loss: 1.2967 - accuracy: 0.5565 - val_loss: 1.1148 - val_accuracy: 0.6297\n",
      "Epoch 32/100\n",
      "218/219 [============================>.] - ETA: 0s - loss: 1.3088 - accuracy: 0.5509\n",
      "Epoch 32: val_loss improved from 1.11482 to 1.06101, saving model to artifacts\\audio_classification.hdf5\n",
      "219/219 [==============================] - 1s 5ms/step - loss: 1.3085 - accuracy: 0.5509 - val_loss: 1.0610 - val_accuracy: 0.6525\n",
      "Epoch 33/100\n",
      "209/219 [===========================>..] - ETA: 0s - loss: 1.2766 - accuracy: 0.5626\n",
      "Epoch 33: val_loss did not improve from 1.06101\n",
      "219/219 [==============================] - 1s 5ms/step - loss: 1.2716 - accuracy: 0.5642 - val_loss: 1.0625 - val_accuracy: 0.6463\n",
      "Epoch 34/100\n",
      "208/219 [===========================>..] - ETA: 0s - loss: 1.2462 - accuracy: 0.5703\n",
      "Epoch 34: val_loss improved from 1.06101 to 1.03985, saving model to artifacts\\audio_classification.hdf5\n",
      "219/219 [==============================] - 1s 5ms/step - loss: 1.2456 - accuracy: 0.5701 - val_loss: 1.0398 - val_accuracy: 0.6571\n",
      "Epoch 35/100\n",
      "215/219 [============================>.] - ETA: 0s - loss: 1.2392 - accuracy: 0.5724\n",
      "Epoch 35: val_loss did not improve from 1.03985\n",
      "219/219 [==============================] - 1s 5ms/step - loss: 1.2403 - accuracy: 0.5719 - val_loss: 1.0540 - val_accuracy: 0.6571\n",
      "Epoch 36/100\n",
      "217/219 [============================>.] - ETA: 0s - loss: 1.2161 - accuracy: 0.5828\n",
      "Epoch 36: val_loss improved from 1.03985 to 1.01757, saving model to artifacts\\audio_classification.hdf5\n",
      "219/219 [==============================] - 1s 5ms/step - loss: 1.2179 - accuracy: 0.5830 - val_loss: 1.0176 - val_accuracy: 0.6760\n",
      "Epoch 37/100\n",
      "215/219 [============================>.] - ETA: 0s - loss: 1.2303 - accuracy: 0.5788\n",
      "Epoch 37: val_loss improved from 1.01757 to 1.00416, saving model to artifacts\\audio_classification.hdf5\n",
      "219/219 [==============================] - 1s 5ms/step - loss: 1.2287 - accuracy: 0.5798 - val_loss: 1.0042 - val_accuracy: 0.6697\n",
      "Epoch 38/100\n",
      "212/219 [============================>.] - ETA: 0s - loss: 1.2244 - accuracy: 0.5761\n",
      "Epoch 38: val_loss improved from 1.00416 to 0.99722, saving model to artifacts\\audio_classification.hdf5\n",
      "219/219 [==============================] - 1s 5ms/step - loss: 1.2280 - accuracy: 0.5748 - val_loss: 0.9972 - val_accuracy: 0.6629\n",
      "Epoch 39/100\n",
      "218/219 [============================>.] - ETA: 0s - loss: 1.1957 - accuracy: 0.5933\n",
      "Epoch 39: val_loss improved from 0.99722 to 0.97520, saving model to artifacts\\audio_classification.hdf5\n",
      "219/219 [==============================] - 1s 5ms/step - loss: 1.1956 - accuracy: 0.5936 - val_loss: 0.9752 - val_accuracy: 0.6743\n",
      "Epoch 40/100\n",
      "208/219 [===========================>..] - ETA: 0s - loss: 1.2066 - accuracy: 0.5843\n",
      "Epoch 40: val_loss did not improve from 0.97520\n",
      "219/219 [==============================] - 1s 5ms/step - loss: 1.2023 - accuracy: 0.5860 - val_loss: 0.9866 - val_accuracy: 0.6812\n",
      "Epoch 41/100\n",
      "208/219 [===========================>..] - ETA: 0s - loss: 1.1770 - accuracy: 0.5942\n",
      "Epoch 41: val_loss did not improve from 0.97520\n",
      "219/219 [==============================] - 1s 5ms/step - loss: 1.1740 - accuracy: 0.5947 - val_loss: 0.9816 - val_accuracy: 0.6709\n",
      "Epoch 42/100\n",
      "213/219 [============================>.] - ETA: 0s - loss: 1.1718 - accuracy: 0.5951\n",
      "Epoch 42: val_loss improved from 0.97520 to 0.97141, saving model to artifacts\\audio_classification.hdf5\n",
      "219/219 [==============================] - 1s 5ms/step - loss: 1.1744 - accuracy: 0.5936 - val_loss: 0.9714 - val_accuracy: 0.6812\n",
      "Epoch 43/100\n",
      "207/219 [===========================>..] - ETA: 0s - loss: 1.1606 - accuracy: 0.6022\n",
      "Epoch 43: val_loss did not improve from 0.97141\n",
      "219/219 [==============================] - 1s 5ms/step - loss: 1.1598 - accuracy: 0.6024 - val_loss: 0.9768 - val_accuracy: 0.6806\n",
      "Epoch 44/100\n",
      "215/219 [============================>.] - ETA: 0s - loss: 1.1543 - accuracy: 0.6087\n",
      "Epoch 44: val_loss improved from 0.97141 to 0.93608, saving model to artifacts\\audio_classification.hdf5\n",
      "219/219 [==============================] - 1s 5ms/step - loss: 1.1562 - accuracy: 0.6090 - val_loss: 0.9361 - val_accuracy: 0.6863\n",
      "Epoch 45/100\n",
      "214/219 [============================>.] - ETA: 0s - loss: 1.1541 - accuracy: 0.6046\n",
      "Epoch 45: val_loss improved from 0.93608 to 0.92507, saving model to artifacts\\audio_classification.hdf5\n",
      "219/219 [==============================] - 1s 5ms/step - loss: 1.1513 - accuracy: 0.6052 - val_loss: 0.9251 - val_accuracy: 0.6869\n",
      "Epoch 46/100\n",
      "212/219 [============================>.] - ETA: 0s - loss: 1.1210 - accuracy: 0.6178\n",
      "Epoch 46: val_loss did not improve from 0.92507\n",
      "219/219 [==============================] - 1s 5ms/step - loss: 1.1242 - accuracy: 0.6168 - val_loss: 0.9368 - val_accuracy: 0.6880\n",
      "Epoch 47/100\n",
      "209/219 [===========================>..] - ETA: 0s - loss: 1.1417 - accuracy: 0.6053\n",
      "Epoch 47: val_loss did not improve from 0.92507\n",
      "219/219 [==============================] - 1s 5ms/step - loss: 1.1402 - accuracy: 0.6056 - val_loss: 0.9404 - val_accuracy: 0.6898\n",
      "Epoch 48/100\n",
      "219/219 [==============================] - ETA: 0s - loss: 1.1335 - accuracy: 0.6157\n",
      "Epoch 48: val_loss did not improve from 0.92507\n",
      "219/219 [==============================] - 1s 5ms/step - loss: 1.1335 - accuracy: 0.6157 - val_loss: 0.9400 - val_accuracy: 0.6915\n",
      "Epoch 49/100\n",
      "215/219 [============================>.] - ETA: 0s - loss: 1.1199 - accuracy: 0.6126\n",
      "Epoch 49: val_loss did not improve from 0.92507\n",
      "219/219 [==============================] - 1s 6ms/step - loss: 1.1213 - accuracy: 0.6115 - val_loss: 0.9314 - val_accuracy: 0.7086\n",
      "Epoch 50/100\n",
      "214/219 [============================>.] - ETA: 0s - loss: 1.1034 - accuracy: 0.6295\n",
      "Epoch 50: val_loss improved from 0.92507 to 0.89807, saving model to artifacts\\audio_classification.hdf5\n",
      "219/219 [==============================] - 1s 6ms/step - loss: 1.1005 - accuracy: 0.6296 - val_loss: 0.8981 - val_accuracy: 0.7075\n",
      "Epoch 51/100\n",
      "209/219 [===========================>..] - ETA: 0s - loss: 1.0911 - accuracy: 0.6259\n",
      "Epoch 51: val_loss improved from 0.89807 to 0.88716, saving model to artifacts\\audio_classification.hdf5\n",
      "219/219 [==============================] - 1s 6ms/step - loss: 1.0945 - accuracy: 0.6259 - val_loss: 0.8872 - val_accuracy: 0.7064\n",
      "Epoch 52/100\n",
      "216/219 [============================>.] - ETA: 0s - loss: 1.1020 - accuracy: 0.6205\n",
      "Epoch 52: val_loss did not improve from 0.88716\n",
      "219/219 [==============================] - 1s 6ms/step - loss: 1.1024 - accuracy: 0.6202 - val_loss: 0.9306 - val_accuracy: 0.6875\n",
      "Epoch 53/100\n",
      "217/219 [============================>.] - ETA: 0s - loss: 1.1071 - accuracy: 0.6211\n",
      "Epoch 53: val_loss did not improve from 0.88716\n",
      "219/219 [==============================] - 1s 5ms/step - loss: 1.1063 - accuracy: 0.6215 - val_loss: 0.8963 - val_accuracy: 0.7046\n",
      "Epoch 54/100\n",
      "214/219 [============================>.] - ETA: 0s - loss: 1.0828 - accuracy: 0.6319\n",
      "Epoch 54: val_loss did not improve from 0.88716\n",
      "219/219 [==============================] - 1s 5ms/step - loss: 1.0839 - accuracy: 0.6311 - val_loss: 0.8899 - val_accuracy: 0.7018\n",
      "Epoch 55/100\n",
      "218/219 [============================>.] - ETA: 0s - loss: 1.0937 - accuracy: 0.6309\n",
      "Epoch 55: val_loss did not improve from 0.88716\n",
      "219/219 [==============================] - 1s 6ms/step - loss: 1.0931 - accuracy: 0.6311 - val_loss: 0.8886 - val_accuracy: 0.7098\n",
      "Epoch 56/100\n",
      "216/219 [============================>.] - ETA: 0s - loss: 1.0814 - accuracy: 0.6318\n",
      "Epoch 56: val_loss did not improve from 0.88716\n",
      "219/219 [==============================] - 1s 5ms/step - loss: 1.0804 - accuracy: 0.6319 - val_loss: 0.8913 - val_accuracy: 0.7041\n",
      "Epoch 57/100\n",
      "212/219 [============================>.] - ETA: 0s - loss: 1.0656 - accuracy: 0.6384\n",
      "Epoch 57: val_loss improved from 0.88716 to 0.87255, saving model to artifacts\\audio_classification.hdf5\n",
      "219/219 [==============================] - 1s 5ms/step - loss: 1.0710 - accuracy: 0.6364 - val_loss: 0.8726 - val_accuracy: 0.7161\n",
      "Epoch 58/100\n",
      "217/219 [============================>.] - ETA: 0s - loss: 1.0804 - accuracy: 0.6322\n",
      "Epoch 58: val_loss improved from 0.87255 to 0.86846, saving model to artifacts\\audio_classification.hdf5\n",
      "219/219 [==============================] - 1s 6ms/step - loss: 1.0801 - accuracy: 0.6322 - val_loss: 0.8685 - val_accuracy: 0.7127\n",
      "Epoch 59/100\n",
      "208/219 [===========================>..] - ETA: 0s - loss: 1.0688 - accuracy: 0.6337\n",
      "Epoch 59: val_loss did not improve from 0.86846\n",
      "219/219 [==============================] - 1s 5ms/step - loss: 1.0683 - accuracy: 0.6334 - val_loss: 0.8763 - val_accuracy: 0.7224\n",
      "Epoch 60/100\n",
      "217/219 [============================>.] - ETA: 0s - loss: 1.0483 - accuracy: 0.6427\n",
      "Epoch 60: val_loss improved from 0.86846 to 0.85690, saving model to artifacts\\audio_classification.hdf5\n",
      "219/219 [==============================] - 1s 6ms/step - loss: 1.0472 - accuracy: 0.6428 - val_loss: 0.8569 - val_accuracy: 0.7310\n",
      "Epoch 61/100\n",
      "211/219 [===========================>..] - ETA: 0s - loss: 1.0451 - accuracy: 0.6500\n",
      "Epoch 61: val_loss did not improve from 0.85690\n",
      "219/219 [==============================] - 1s 5ms/step - loss: 1.0509 - accuracy: 0.6480 - val_loss: 0.8803 - val_accuracy: 0.7275\n",
      "Epoch 62/100\n",
      "217/219 [============================>.] - ETA: 0s - loss: 1.0461 - accuracy: 0.6437\n",
      "Epoch 62: val_loss did not improve from 0.85690\n",
      "219/219 [==============================] - 1s 5ms/step - loss: 1.0484 - accuracy: 0.6429 - val_loss: 0.8753 - val_accuracy: 0.7058\n",
      "Epoch 63/100\n",
      "218/219 [============================>.] - ETA: 0s - loss: 1.0476 - accuracy: 0.6429\n",
      "Epoch 63: val_loss improved from 0.85690 to 0.84227, saving model to artifacts\\audio_classification.hdf5\n",
      "219/219 [==============================] - 1s 6ms/step - loss: 1.0475 - accuracy: 0.6428 - val_loss: 0.8423 - val_accuracy: 0.7195\n",
      "Epoch 64/100\n",
      "217/219 [============================>.] - ETA: 0s - loss: 1.0434 - accuracy: 0.6437\n",
      "Epoch 64: val_loss improved from 0.84227 to 0.83420, saving model to artifacts\\audio_classification.hdf5\n",
      "219/219 [==============================] - 1s 6ms/step - loss: 1.0451 - accuracy: 0.6428 - val_loss: 0.8342 - val_accuracy: 0.7361\n",
      "Epoch 65/100\n",
      "217/219 [============================>.] - ETA: 0s - loss: 1.0191 - accuracy: 0.6534\n",
      "Epoch 65: val_loss improved from 0.83420 to 0.82125, saving model to artifacts\\audio_classification.hdf5\n",
      "219/219 [==============================] - 1s 5ms/step - loss: 1.0192 - accuracy: 0.6534 - val_loss: 0.8213 - val_accuracy: 0.7315\n",
      "Epoch 66/100\n",
      "219/219 [==============================] - ETA: 0s - loss: 1.0305 - accuracy: 0.6494\n",
      "Epoch 66: val_loss did not improve from 0.82125\n",
      "219/219 [==============================] - 1s 4ms/step - loss: 1.0305 - accuracy: 0.6494 - val_loss: 0.8459 - val_accuracy: 0.7201\n",
      "Epoch 67/100\n",
      "206/219 [===========================>..] - ETA: 0s - loss: 1.0164 - accuracy: 0.6505\n",
      "Epoch 67: val_loss improved from 0.82125 to 0.82091, saving model to artifacts\\audio_classification.hdf5\n",
      "219/219 [==============================] - 1s 5ms/step - loss: 1.0154 - accuracy: 0.6515 - val_loss: 0.8209 - val_accuracy: 0.7327\n",
      "Epoch 68/100\n",
      "214/219 [============================>.] - ETA: 0s - loss: 1.0546 - accuracy: 0.6488\n",
      "Epoch 68: val_loss did not improve from 0.82091\n",
      "219/219 [==============================] - 1s 4ms/step - loss: 1.0543 - accuracy: 0.6490 - val_loss: 0.8402 - val_accuracy: 0.7333\n",
      "Epoch 69/100\n",
      "210/219 [===========================>..] - ETA: 0s - loss: 1.0282 - accuracy: 0.6461\n",
      "Epoch 69: val_loss did not improve from 0.82091\n",
      "219/219 [==============================] - 1s 4ms/step - loss: 1.0323 - accuracy: 0.6444 - val_loss: 0.8357 - val_accuracy: 0.7418\n",
      "Epoch 70/100\n",
      "217/219 [============================>.] - ETA: 0s - loss: 1.0272 - accuracy: 0.6555\n",
      "Epoch 70: val_loss did not improve from 0.82091\n",
      "219/219 [==============================] - 1s 4ms/step - loss: 1.0281 - accuracy: 0.6551 - val_loss: 0.8269 - val_accuracy: 0.7333\n",
      "Epoch 71/100\n",
      "218/219 [============================>.] - ETA: 0s - loss: 1.0376 - accuracy: 0.6537\n",
      "Epoch 71: val_loss did not improve from 0.82091\n",
      "219/219 [==============================] - 1s 4ms/step - loss: 1.0379 - accuracy: 0.6535 - val_loss: 0.8234 - val_accuracy: 0.7396\n",
      "Epoch 72/100\n",
      "213/219 [============================>.] - ETA: 0s - loss: 1.0350 - accuracy: 0.6526\n",
      "Epoch 72: val_loss did not improve from 0.82091\n",
      "219/219 [==============================] - 1s 4ms/step - loss: 1.0383 - accuracy: 0.6518 - val_loss: 0.8385 - val_accuracy: 0.7252\n",
      "Epoch 73/100\n",
      "209/219 [===========================>..] - ETA: 0s - loss: 1.0175 - accuracy: 0.6597\n",
      "Epoch 73: val_loss did not improve from 0.82091\n",
      "219/219 [==============================] - 1s 4ms/step - loss: 1.0227 - accuracy: 0.6571 - val_loss: 0.8336 - val_accuracy: 0.7293\n",
      "Epoch 74/100\n",
      "215/219 [============================>.] - ETA: 0s - loss: 1.0201 - accuracy: 0.6578\n",
      "Epoch 74: val_loss improved from 0.82091 to 0.81259, saving model to artifacts\\audio_classification.hdf5\n",
      "219/219 [==============================] - 1s 4ms/step - loss: 1.0192 - accuracy: 0.6578 - val_loss: 0.8126 - val_accuracy: 0.7441\n",
      "Epoch 75/100\n",
      "208/219 [===========================>..] - ETA: 0s - loss: 1.0131 - accuracy: 0.6647\n",
      "Epoch 75: val_loss did not improve from 0.81259\n",
      "219/219 [==============================] - 1s 4ms/step - loss: 1.0097 - accuracy: 0.6647 - val_loss: 0.8466 - val_accuracy: 0.7361\n",
      "Epoch 76/100\n",
      "215/219 [============================>.] - ETA: 0s - loss: 0.9980 - accuracy: 0.6610\n",
      "Epoch 76: val_loss improved from 0.81259 to 0.78939, saving model to artifacts\\audio_classification.hdf5\n",
      "219/219 [==============================] - 1s 6ms/step - loss: 0.9978 - accuracy: 0.6613 - val_loss: 0.7894 - val_accuracy: 0.7481\n",
      "Epoch 77/100\n",
      "208/219 [===========================>..] - ETA: 0s - loss: 1.0174 - accuracy: 0.6594\n",
      "Epoch 77: val_loss did not improve from 0.78939\n",
      "219/219 [==============================] - 1s 5ms/step - loss: 1.0140 - accuracy: 0.6603 - val_loss: 0.8111 - val_accuracy: 0.7418\n",
      "Epoch 78/100\n",
      "217/219 [============================>.] - ETA: 0s - loss: 1.0061 - accuracy: 0.6649\n",
      "Epoch 78: val_loss did not improve from 0.78939\n",
      "219/219 [==============================] - 1s 5ms/step - loss: 1.0055 - accuracy: 0.6650 - val_loss: 0.8220 - val_accuracy: 0.7378\n",
      "Epoch 79/100\n",
      "217/219 [============================>.] - ETA: 0s - loss: 0.9914 - accuracy: 0.6672\n",
      "Epoch 79: val_loss did not improve from 0.78939\n",
      "219/219 [==============================] - 1s 5ms/step - loss: 0.9915 - accuracy: 0.6673 - val_loss: 0.7998 - val_accuracy: 0.7481\n",
      "Epoch 80/100\n",
      "218/219 [============================>.] - ETA: 0s - loss: 0.9872 - accuracy: 0.6613\n",
      "Epoch 80: val_loss did not improve from 0.78939\n",
      "219/219 [==============================] - 1s 4ms/step - loss: 0.9872 - accuracy: 0.6610 - val_loss: 0.7925 - val_accuracy: 0.7544\n",
      "Epoch 81/100\n",
      "217/219 [============================>.] - ETA: 0s - loss: 1.0210 - accuracy: 0.6642\n",
      "Epoch 81: val_loss improved from 0.78939 to 0.77338, saving model to artifacts\\audio_classification.hdf5\n",
      "219/219 [==============================] - 1s 4ms/step - loss: 1.0208 - accuracy: 0.6637 - val_loss: 0.7734 - val_accuracy: 0.7659\n",
      "Epoch 82/100\n",
      "209/219 [===========================>..] - ETA: 0s - loss: 0.9971 - accuracy: 0.6627\n",
      "Epoch 82: val_loss did not improve from 0.77338\n",
      "219/219 [==============================] - 1s 4ms/step - loss: 0.9922 - accuracy: 0.6640 - val_loss: 0.7840 - val_accuracy: 0.7521\n",
      "Epoch 83/100\n",
      "213/219 [============================>.] - ETA: 0s - loss: 0.9646 - accuracy: 0.6759\n",
      "Epoch 83: val_loss did not improve from 0.77338\n",
      "219/219 [==============================] - 1s 4ms/step - loss: 0.9660 - accuracy: 0.6752 - val_loss: 0.7875 - val_accuracy: 0.7441\n",
      "Epoch 84/100\n",
      "218/219 [============================>.] - ETA: 0s - loss: 0.9843 - accuracy: 0.6671\n",
      "Epoch 84: val_loss did not improve from 0.77338\n",
      "219/219 [==============================] - 1s 4ms/step - loss: 0.9837 - accuracy: 0.6673 - val_loss: 0.7866 - val_accuracy: 0.7550\n",
      "Epoch 85/100\n",
      "208/219 [===========================>..] - ETA: 0s - loss: 1.0056 - accuracy: 0.6678\n",
      "Epoch 85: val_loss improved from 0.77338 to 0.77207, saving model to artifacts\\audio_classification.hdf5\n",
      "219/219 [==============================] - 1s 4ms/step - loss: 1.0053 - accuracy: 0.6670 - val_loss: 0.7721 - val_accuracy: 0.7647\n",
      "Epoch 86/100\n",
      "205/219 [===========================>..] - ETA: 0s - loss: 0.9826 - accuracy: 0.6648\n",
      "Epoch 86: val_loss did not improve from 0.77207\n",
      "219/219 [==============================] - 1s 4ms/step - loss: 0.9764 - accuracy: 0.6663 - val_loss: 0.7742 - val_accuracy: 0.7636\n",
      "Epoch 87/100\n",
      "207/219 [===========================>..] - ETA: 0s - loss: 0.9987 - accuracy: 0.6597\n",
      "Epoch 87: val_loss did not improve from 0.77207\n",
      "219/219 [==============================] - 1s 4ms/step - loss: 0.9937 - accuracy: 0.6616 - val_loss: 0.8047 - val_accuracy: 0.7493\n",
      "Epoch 88/100\n",
      "205/219 [===========================>..] - ETA: 0s - loss: 0.9652 - accuracy: 0.6750\n",
      "Epoch 88: val_loss did not improve from 0.77207\n",
      "219/219 [==============================] - 1s 4ms/step - loss: 0.9672 - accuracy: 0.6760 - val_loss: 0.7885 - val_accuracy: 0.7413\n",
      "Epoch 89/100\n",
      "215/219 [============================>.] - ETA: 0s - loss: 0.9707 - accuracy: 0.6735\n",
      "Epoch 89: val_loss did not improve from 0.77207\n",
      "219/219 [==============================] - 1s 4ms/step - loss: 0.9714 - accuracy: 0.6737 - val_loss: 0.7781 - val_accuracy: 0.7607\n",
      "Epoch 90/100\n",
      "210/219 [===========================>..] - ETA: 0s - loss: 0.9828 - accuracy: 0.6708\n",
      "Epoch 90: val_loss did not improve from 0.77207\n",
      "219/219 [==============================] - 1s 4ms/step - loss: 0.9853 - accuracy: 0.6704 - val_loss: 0.7739 - val_accuracy: 0.7647\n",
      "Epoch 91/100\n",
      "214/219 [============================>.] - ETA: 0s - loss: 0.9817 - accuracy: 0.6744\n",
      "Epoch 91: val_loss improved from 0.77207 to 0.76530, saving model to artifacts\\audio_classification.hdf5\n",
      "219/219 [==============================] - 1s 5ms/step - loss: 0.9833 - accuracy: 0.6740 - val_loss: 0.7653 - val_accuracy: 0.7613\n",
      "Epoch 92/100\n",
      "212/219 [============================>.] - ETA: 0s - loss: 0.9506 - accuracy: 0.6835\n",
      "Epoch 92: val_loss did not improve from 0.76530\n",
      "219/219 [==============================] - 1s 5ms/step - loss: 0.9502 - accuracy: 0.6829 - val_loss: 0.7661 - val_accuracy: 0.7693\n",
      "Epoch 93/100\n",
      "211/219 [===========================>..] - ETA: 0s - loss: 0.9732 - accuracy: 0.6731\n",
      "Epoch 93: val_loss did not improve from 0.76530\n",
      "219/219 [==============================] - 1s 5ms/step - loss: 0.9755 - accuracy: 0.6730 - val_loss: 0.7732 - val_accuracy: 0.7670\n",
      "Epoch 94/100\n",
      "219/219 [==============================] - ETA: 0s - loss: 0.9550 - accuracy: 0.6807\n",
      "Epoch 94: val_loss did not improve from 0.76530\n",
      "219/219 [==============================] - 1s 5ms/step - loss: 0.9550 - accuracy: 0.6807 - val_loss: 0.7847 - val_accuracy: 0.7499\n",
      "Epoch 95/100\n",
      "213/219 [============================>.] - ETA: 0s - loss: 0.9659 - accuracy: 0.6714\n",
      "Epoch 95: val_loss improved from 0.76530 to 0.75214, saving model to artifacts\\audio_classification.hdf5\n",
      "219/219 [==============================] - 1s 5ms/step - loss: 0.9642 - accuracy: 0.6716 - val_loss: 0.7521 - val_accuracy: 0.7653\n",
      "Epoch 96/100\n",
      "211/219 [===========================>..] - ETA: 0s - loss: 0.9777 - accuracy: 0.6714\n",
      "Epoch 96: val_loss did not improve from 0.75214\n",
      "219/219 [==============================] - 1s 5ms/step - loss: 0.9751 - accuracy: 0.6712 - val_loss: 0.7892 - val_accuracy: 0.7521\n",
      "Epoch 97/100\n",
      "212/219 [============================>.] - ETA: 0s - loss: 0.9546 - accuracy: 0.6806\n",
      "Epoch 97: val_loss did not improve from 0.75214\n",
      "219/219 [==============================] - 1s 5ms/step - loss: 0.9512 - accuracy: 0.6805 - val_loss: 0.7704 - val_accuracy: 0.7573\n",
      "Epoch 98/100\n",
      "209/219 [===========================>..] - ETA: 0s - loss: 0.9509 - accuracy: 0.6790\n",
      "Epoch 98: val_loss improved from 0.75214 to 0.74850, saving model to artifacts\\audio_classification.hdf5\n",
      "219/219 [==============================] - 1s 5ms/step - loss: 0.9493 - accuracy: 0.6790 - val_loss: 0.7485 - val_accuracy: 0.7687\n",
      "Epoch 99/100\n",
      "218/219 [============================>.] - ETA: 0s - loss: 0.9492 - accuracy: 0.6832\n",
      "Epoch 99: val_loss did not improve from 0.74850\n",
      "219/219 [==============================] - 1s 5ms/step - loss: 0.9490 - accuracy: 0.6832 - val_loss: 0.7533 - val_accuracy: 0.7550\n",
      "Epoch 100/100\n",
      "219/219 [==============================] - ETA: 0s - loss: 0.9447 - accuracy: 0.6820\n",
      "Epoch 100: val_loss did not improve from 0.74850\n",
      "219/219 [==============================] - 1s 5ms/step - loss: 0.9447 - accuracy: 0.6820 - val_loss: 0.7841 - val_accuracy: 0.7504\n",
      "Training completed in time:  0:01:53.137694\n"
     ]
    }
   ],
   "source": [
    "## Trianing my model\n",
    "from tensorflow.keras.callbacks import ModelCheckpoint\n",
    "from datetime import datetime \n",
    "\n",
    "num_epochs = 100\n",
    "num_batch_size = 32\n",
    "\n",
    "checkpointer = ModelCheckpoint(filepath='artifacts/audio_classification.hdf5', \n",
    "                               verbose=1, save_best_only=True)\n",
    "start = datetime.now()\n",
    "\n",
    "model.fit(X_train, y_train, batch_size=num_batch_size, epochs=num_epochs, validation_data=(X_test, y_test), callbacks=[checkpointer], verbose=1)\n",
    "\n",
    "\n",
    "duration = datetime.now() - start\n",
    "print(\"Training completed in time: \", duration)"
   ]
  },
  {
   "cell_type": "code",
   "execution_count": 48,
   "metadata": {},
   "outputs": [
    {
     "name": "stdout",
     "output_type": "stream",
     "text": [
      "0.7504293322563171\n"
     ]
    }
   ],
   "source": [
    "test_accuracy=model.evaluate(X_test,y_test,verbose=0)\n",
    "print(test_accuracy[1])"
   ]
  },
  {
   "cell_type": "code",
   "execution_count": 50,
   "metadata": {},
   "outputs": [
    {
     "data": {
      "text/plain": [
       "array([-466.17956543,    1.09502459,  -34.01388931,   35.33934784,\n",
       "        -14.88148022,  -19.12842941,   -0.58168399,  -16.13057899,\n",
       "        -21.33907509,    7.67363453,  -29.16448975,  -18.95025253,\n",
       "         -2.95799923,   -8.16232967,  -15.15310097,   -6.60480547,\n",
       "         -7.56859732,    9.34064579,   14.43309975,   21.93418121,\n",
       "         20.86139679,    1.33401227,  -19.22880363,   -4.6302309 ,\n",
       "         -1.05647457,    3.21526694,   -6.98428106,  -16.41457748,\n",
       "        -10.02864552,   13.00995445,    0.5334608 ,  -23.84339142,\n",
       "        -15.26732063,    9.24573421,   10.36762619,   -0.58320105,\n",
       "         -1.26240528,   17.70001602,   13.8474617 ,   -5.18628263])"
      ]
     },
     "execution_count": 50,
     "metadata": {},
     "output_type": "execute_result"
    }
   ],
   "source": [
    "X_test[1]"
   ]
  },
  {
   "cell_type": "code",
   "execution_count": 51,
   "metadata": {},
   "outputs": [
    {
     "ename": "AttributeError",
     "evalue": "'Sequential' object has no attribute 'predict_classes'",
     "output_type": "error",
     "traceback": [
      "\u001b[1;31m---------------------------------------------------------------------------\u001b[0m",
      "\u001b[1;31mAttributeError\u001b[0m                            Traceback (most recent call last)",
      "Cell \u001b[1;32mIn[51], line 1\u001b[0m\n\u001b[1;32m----> 1\u001b[0m \u001b[43mmodel\u001b[49m\u001b[38;5;241;43m.\u001b[39;49m\u001b[43mpredict_classes\u001b[49m(X_test)\n",
      "\u001b[1;31mAttributeError\u001b[0m: 'Sequential' object has no attribute 'predict_classes'"
     ]
    }
   ],
   "source": [
    "model.predict_classes(X_test)"
   ]
  },
  {
   "cell_type": "code",
   "execution_count": 52,
   "metadata": {},
   "outputs": [
    {
     "name": "stdout",
     "output_type": "stream",
     "text": [
      "55/55 [==============================] - 0s 4ms/step\n"
     ]
    }
   ],
   "source": [
    "predictions = model.predict(X_test)"
   ]
  },
  {
   "cell_type": "code",
   "execution_count": 53,
   "metadata": {},
   "outputs": [],
   "source": [
    "predicted_classes = predictions.argmax(axis=-1)"
   ]
  },
  {
   "cell_type": "code",
   "execution_count": 54,
   "metadata": {},
   "outputs": [
    {
     "data": {
      "text/plain": [
       "array([5, 3, 4, ..., 1, 0, 2], dtype=int64)"
      ]
     },
     "execution_count": 54,
     "metadata": {},
     "output_type": "execute_result"
    }
   ],
   "source": [
    "predicted_classes"
   ]
  },
  {
   "cell_type": "code",
   "execution_count": null,
   "metadata": {},
   "outputs": [],
   "source": []
  }
 ],
 "metadata": {
  "kernelspec": {
   "display_name": "audioclf",
   "language": "python",
   "name": "python3"
  },
  "language_info": {
   "codemirror_mode": {
    "name": "ipython",
    "version": 3
   },
   "file_extension": ".py",
   "mimetype": "text/x-python",
   "name": "python",
   "nbconvert_exporter": "python",
   "pygments_lexer": "ipython3",
   "version": "3.8.19"
  }
 },
 "nbformat": 4,
 "nbformat_minor": 2
}
